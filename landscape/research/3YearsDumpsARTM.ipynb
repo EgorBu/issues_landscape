{
 "cells": [
  {
   "cell_type": "code",
   "execution_count": 36,
   "metadata": {},
   "outputs": [
    {
     "name": "stdout",
     "output_type": "stream",
     "text": [
      "0.9.2\n"
     ]
    }
   ],
   "source": [
    "%matplotlib inline\n",
    "import glob\n",
    "import os\n",
    "import matplotlib.pyplot as plt\n",
    "\n",
    "import artm\n",
    "\n",
    "print (artm.version())"
   ]
  },
  {
   "cell_type": "code",
   "execution_count": 37,
   "metadata": {},
   "outputs": [],
   "source": [
    "batch_vectorizer = None\n",
    "if len(glob.glob(os.path.join(\"batch_3_years\", \"*.batch\"))) < 1:\n",
    "    batch_vectorizer = artm.BatchVectorizer(data_path=\"../bigARTM_files/3years/\", data_format=\"bow_uci\", collection_name=\"issues\", target_folder=\"batch_3_years\")\n",
    "else:\n",
    "    batch_vectorizer = artm.BatchVectorizer(data_path=\"batch_3_years\", data_format=\"batches\")"
   ]
  },
  {
   "cell_type": "code",
   "execution_count": 23,
   "metadata": {},
   "outputs": [],
   "source": [
    "dictionary = artm.Dictionary()\n",
    "\n",
    "model_artm = artm.ARTM(topic_names=[\"topic_{}\".format(i) for i in range(150)],\n",
    "                       show_progress_bars=True,\n",
    "                       scores=[artm.PerplexityScore(name=\"PerplexityScore\",\n",
    "                                                    dictionary=dictionary)],\n",
    "                       regularizers=[artm.SmoothSparseThetaRegularizer(name=\"SparseTheta\", tau=-0.15)],\n",
    "                       cache_theta=True)\n",
    "# tau < 0 - sparse, > 0 - smooth"
   ]
  },
  {
   "cell_type": "code",
   "execution_count": 24,
   "metadata": {},
   "outputs": [],
   "source": [
    "if not os.path.isfile(\"batch_3_years/dictionary.dict\"):\n",
    "    dictionary.gather(data_path=batch_vectorizer.data_path)\n",
    "    dictionary.save(dictionary_path=\"batch_3_years/dictionary.dict\")\n",
    "\n",
    "dictionary.load(dictionary_path=\"batch_3_years/dictionary.dict\")"
   ]
  },
  {
   "cell_type": "code",
   "execution_count": 25,
   "metadata": {},
   "outputs": [],
   "source": [
    "model_artm.initialize(dictionary=dictionary)"
   ]
  },
  {
   "cell_type": "code",
   "execution_count": 26,
   "metadata": {},
   "outputs": [],
   "source": [
    "model_artm.scores.add(artm.SparsityPhiScore(name=\"SparsityPhiScore\"))\n",
    "model_artm.scores.add(artm.SparsityThetaScore(name=\"SparsityThetaScore\"))\n",
    "model_artm.scores.add(artm.TopicKernelScore(name=\"TopicKernelScore\", probability_mass_threshold=0.3))\n",
    "model_artm.scores.add(artm.TopTokensScore(name=\"TopTokensScore\", num_tokens=5))"
   ]
  },
  {
   "cell_type": "code",
   "execution_count": 27,
   "metadata": {},
   "outputs": [],
   "source": [
    "model_artm.regularizers.add(artm.SmoothSparsePhiRegularizer(name=\"SparsePhi\", tau=-0.1))\n",
    "model_artm.regularizers.add(artm.DecorrelatorPhiRegularizer(name=\"DecorrelatorPhi\", tau=1.5e+4))"
   ]
  },
  {
   "cell_type": "code",
   "execution_count": 28,
   "metadata": {},
   "outputs": [
    {
     "data": {
      "application/vnd.jupyter.widget-view+json": {
       "model_id": "c7f70c7f77f041ffa9f5ce510ca43746",
       "version_major": 2,
       "version_minor": 0
      },
      "text/plain": [
       "HBox(children=(FloatProgress(value=0.0, description='Pass', max=25.0, style=ProgressStyle(description_width='i…"
      ]
     },
     "metadata": {},
     "output_type": "display_data"
    },
    {
     "data": {
      "application/vnd.jupyter.widget-view+json": {
       "model_id": "",
       "version_major": 2,
       "version_minor": 0
      },
      "text/plain": [
       "HBox(children=(FloatProgress(value=0.0, description='Batch', max=542.0, style=ProgressStyle(description_width=…"
      ]
     },
     "metadata": {},
     "output_type": "display_data"
    },
    {
     "data": {
      "application/vnd.jupyter.widget-view+json": {
       "model_id": "",
       "version_major": 2,
       "version_minor": 0
      },
      "text/plain": [
       "HBox(children=(FloatProgress(value=0.0, description='Batch', max=542.0, style=ProgressStyle(description_width=…"
      ]
     },
     "metadata": {},
     "output_type": "display_data"
    },
    {
     "data": {
      "application/vnd.jupyter.widget-view+json": {
       "model_id": "",
       "version_major": 2,
       "version_minor": 0
      },
      "text/plain": [
       "HBox(children=(FloatProgress(value=0.0, description='Batch', max=542.0, style=ProgressStyle(description_width=…"
      ]
     },
     "metadata": {},
     "output_type": "display_data"
    },
    {
     "data": {
      "application/vnd.jupyter.widget-view+json": {
       "model_id": "",
       "version_major": 2,
       "version_minor": 0
      },
      "text/plain": [
       "HBox(children=(FloatProgress(value=0.0, description='Batch', max=542.0, style=ProgressStyle(description_width=…"
      ]
     },
     "metadata": {},
     "output_type": "display_data"
    },
    {
     "data": {
      "application/vnd.jupyter.widget-view+json": {
       "model_id": "",
       "version_major": 2,
       "version_minor": 0
      },
      "text/plain": [
       "HBox(children=(FloatProgress(value=0.0, description='Batch', max=542.0, style=ProgressStyle(description_width=…"
      ]
     },
     "metadata": {},
     "output_type": "display_data"
    },
    {
     "data": {
      "application/vnd.jupyter.widget-view+json": {
       "model_id": "",
       "version_major": 2,
       "version_minor": 0
      },
      "text/plain": [
       "HBox(children=(FloatProgress(value=0.0, description='Batch', max=542.0, style=ProgressStyle(description_width=…"
      ]
     },
     "metadata": {},
     "output_type": "display_data"
    },
    {
     "data": {
      "application/vnd.jupyter.widget-view+json": {
       "model_id": "",
       "version_major": 2,
       "version_minor": 0
      },
      "text/plain": [
       "HBox(children=(FloatProgress(value=0.0, description='Batch', max=542.0, style=ProgressStyle(description_width=…"
      ]
     },
     "metadata": {},
     "output_type": "display_data"
    },
    {
     "data": {
      "application/vnd.jupyter.widget-view+json": {
       "model_id": "",
       "version_major": 2,
       "version_minor": 0
      },
      "text/plain": [
       "HBox(children=(FloatProgress(value=0.0, description='Batch', max=542.0, style=ProgressStyle(description_width=…"
      ]
     },
     "metadata": {},
     "output_type": "display_data"
    },
    {
     "data": {
      "application/vnd.jupyter.widget-view+json": {
       "model_id": "",
       "version_major": 2,
       "version_minor": 0
      },
      "text/plain": [
       "HBox(children=(FloatProgress(value=0.0, description='Batch', max=542.0, style=ProgressStyle(description_width=…"
      ]
     },
     "metadata": {},
     "output_type": "display_data"
    },
    {
     "data": {
      "application/vnd.jupyter.widget-view+json": {
       "model_id": "",
       "version_major": 2,
       "version_minor": 0
      },
      "text/plain": [
       "HBox(children=(FloatProgress(value=0.0, description='Batch', max=542.0, style=ProgressStyle(description_width=…"
      ]
     },
     "metadata": {},
     "output_type": "display_data"
    },
    {
     "data": {
      "application/vnd.jupyter.widget-view+json": {
       "model_id": "",
       "version_major": 2,
       "version_minor": 0
      },
      "text/plain": [
       "HBox(children=(FloatProgress(value=0.0, description='Batch', max=542.0, style=ProgressStyle(description_width=…"
      ]
     },
     "metadata": {},
     "output_type": "display_data"
    },
    {
     "data": {
      "application/vnd.jupyter.widget-view+json": {
       "model_id": "",
       "version_major": 2,
       "version_minor": 0
      },
      "text/plain": [
       "HBox(children=(FloatProgress(value=0.0, description='Batch', max=542.0, style=ProgressStyle(description_width=…"
      ]
     },
     "metadata": {},
     "output_type": "display_data"
    },
    {
     "data": {
      "application/vnd.jupyter.widget-view+json": {
       "model_id": "",
       "version_major": 2,
       "version_minor": 0
      },
      "text/plain": [
       "HBox(children=(FloatProgress(value=0.0, description='Batch', max=542.0, style=ProgressStyle(description_width=…"
      ]
     },
     "metadata": {},
     "output_type": "display_data"
    },
    {
     "data": {
      "application/vnd.jupyter.widget-view+json": {
       "model_id": "",
       "version_major": 2,
       "version_minor": 0
      },
      "text/plain": [
       "HBox(children=(FloatProgress(value=0.0, description='Batch', max=542.0, style=ProgressStyle(description_width=…"
      ]
     },
     "metadata": {},
     "output_type": "display_data"
    },
    {
     "data": {
      "application/vnd.jupyter.widget-view+json": {
       "model_id": "",
       "version_major": 2,
       "version_minor": 0
      },
      "text/plain": [
       "HBox(children=(FloatProgress(value=0.0, description='Batch', max=542.0, style=ProgressStyle(description_width=…"
      ]
     },
     "metadata": {},
     "output_type": "display_data"
    },
    {
     "data": {
      "application/vnd.jupyter.widget-view+json": {
       "model_id": "",
       "version_major": 2,
       "version_minor": 0
      },
      "text/plain": [
       "HBox(children=(FloatProgress(value=0.0, description='Batch', max=542.0, style=ProgressStyle(description_width=…"
      ]
     },
     "metadata": {},
     "output_type": "display_data"
    },
    {
     "data": {
      "application/vnd.jupyter.widget-view+json": {
       "model_id": "",
       "version_major": 2,
       "version_minor": 0
      },
      "text/plain": [
       "HBox(children=(FloatProgress(value=0.0, description='Batch', max=542.0, style=ProgressStyle(description_width=…"
      ]
     },
     "metadata": {},
     "output_type": "display_data"
    },
    {
     "data": {
      "application/vnd.jupyter.widget-view+json": {
       "model_id": "",
       "version_major": 2,
       "version_minor": 0
      },
      "text/plain": [
       "HBox(children=(FloatProgress(value=0.0, description='Batch', max=542.0, style=ProgressStyle(description_width=…"
      ]
     },
     "metadata": {},
     "output_type": "display_data"
    },
    {
     "data": {
      "application/vnd.jupyter.widget-view+json": {
       "model_id": "",
       "version_major": 2,
       "version_minor": 0
      },
      "text/plain": [
       "HBox(children=(FloatProgress(value=0.0, description='Batch', max=542.0, style=ProgressStyle(description_width=…"
      ]
     },
     "metadata": {},
     "output_type": "display_data"
    },
    {
     "data": {
      "application/vnd.jupyter.widget-view+json": {
       "model_id": "",
       "version_major": 2,
       "version_minor": 0
      },
      "text/plain": [
       "HBox(children=(FloatProgress(value=0.0, description='Batch', max=542.0, style=ProgressStyle(description_width=…"
      ]
     },
     "metadata": {},
     "output_type": "display_data"
    },
    {
     "data": {
      "application/vnd.jupyter.widget-view+json": {
       "model_id": "",
       "version_major": 2,
       "version_minor": 0
      },
      "text/plain": [
       "HBox(children=(FloatProgress(value=0.0, description='Batch', max=542.0, style=ProgressStyle(description_width=…"
      ]
     },
     "metadata": {},
     "output_type": "display_data"
    },
    {
     "data": {
      "application/vnd.jupyter.widget-view+json": {
       "model_id": "",
       "version_major": 2,
       "version_minor": 0
      },
      "text/plain": [
       "HBox(children=(FloatProgress(value=0.0, description='Batch', max=542.0, style=ProgressStyle(description_width=…"
      ]
     },
     "metadata": {},
     "output_type": "display_data"
    },
    {
     "data": {
      "application/vnd.jupyter.widget-view+json": {
       "model_id": "",
       "version_major": 2,
       "version_minor": 0
      },
      "text/plain": [
       "HBox(children=(FloatProgress(value=0.0, description='Batch', max=542.0, style=ProgressStyle(description_width=…"
      ]
     },
     "metadata": {},
     "output_type": "display_data"
    },
    {
     "data": {
      "application/vnd.jupyter.widget-view+json": {
       "model_id": "",
       "version_major": 2,
       "version_minor": 0
      },
      "text/plain": [
       "HBox(children=(FloatProgress(value=0.0, description='Batch', max=542.0, style=ProgressStyle(description_width=…"
      ]
     },
     "metadata": {},
     "output_type": "display_data"
    },
    {
     "data": {
      "application/vnd.jupyter.widget-view+json": {
       "model_id": "",
       "version_major": 2,
       "version_minor": 0
      },
      "text/plain": [
       "HBox(children=(FloatProgress(value=0.0, description='Batch', max=542.0, style=ProgressStyle(description_width=…"
      ]
     },
     "metadata": {},
     "output_type": "display_data"
    },
    {
     "name": "stdout",
     "output_type": "stream",
     "text": [
      "\n"
     ]
    }
   ],
   "source": [
    "model_artm.num_document_passes = 1\n",
    "\n",
    "model_artm.fit_offline(batch_vectorizer=batch_vectorizer, num_collection_passes=25)"
   ]
  },
  {
   "cell_type": "code",
   "execution_count": 29,
   "metadata": {},
   "outputs": [
    {
     "name": "stdout",
     "output_type": "stream",
     "text": [
      "topic_0 : ['value', 'key', 'duplicate', 'entry', 'insert']\n",
      "topic_1 : ['une', 'pdf', 'il', 'liste', 'quand']\n",
      "topic_2 : ['memory', 'operation', 'buff', 'bound', 'restriction']\n",
      "topic_3 : ['url', 'json', 'token', 'member', 'stream']\n",
      "topic_4 : ['config', 'variable', 'global', 'directly', 'prompt']\n",
      "topic_5 : ['cluster', 'cache', 'manage', 'clear', 'monitor']\n",
      "topic_6 : ['service', 'azure', 'portal', 'optional', 'score']\n",
      "topic_7 : ['et', 'information', 'place', 'contact', 'modifier']\n",
      "topic_8 : ['check', 'device', 'alert', 'generic', 'cpu']\n",
      "topic_9 : ['ui', 'bar', 'scroll', 'hide', 'tree']\n",
      "topic_10 : ['на', 'не', 'software', 'research', 'то']\n",
      "topic_11 : ['index', 'array', 'route', 'vue', 'final']\n",
      "topic_12 : ['require', 'execute', 'mechanism', 'specification', 'arbitrary']\n",
      "topic_13 : ['post', 'fee', 'office', 'unavailable', 'afl']\n",
      "topic_14 : ['git', 'integration', 'commit', 'management', 'pack']\n",
      "topic_15 : ['provider', 'scan', 'stock', 'primary', 'contract']\n",
      "topic_16 : ['sign', 'verify', 'dos', 'cadastro', 'certificate']\n",
      "topic_17 : ['http', 'body', 'slide', 'compilation', 'net']\n",
      "topic_18 : ['resource', 'manager', 'target', 'submit', 'valid']\n",
      "topic_19 : ['app', 'time', 'miss', 'network', 'download']\n",
      "topic_20 : ['visual', 'come', 'studio', 'red', 'tutorial']\n",
      "topic_21 : ['match', 'question', 'schema', 'revert', 'ruby']\n",
      "topic_22 : ['interface', 'common', 'medium', 'certain', 'social']\n",
      "topic_23 : ['line', 'parse', 'position', 'syntax', 'highlight']\n",
      "topic_24 : ['limit', 'pull', 'stack', 'push', 'env']\n",
      "topic_25 : ['employee', 'implementation', 'hr', 'credit', 'educational']\n",
      "topic_26 : ['user', 'edit', 'register', 'double', 'add']\n",
      "topic_27 : ['change', 'generate', 'account', 'library', 'auto']\n",
      "topic_28 : ['extension', 'port', 'proxy', 'basic', 'auth']\n",
      "topic_29 : ['el', 'con', 'por', 'expression', 'cuando']\n",
      "topic_30 : ['delete', 'detail', 'title', 'rule', 'description']\n",
      "topic_31 : ['la', 'plus', 'lor', 'radio', 'temp']\n",
      "topic_32 : ['size', 'know', 'sort', 'font', 'customer']\n",
      "topic_33 : ['field', 'search', 'admin', 'product', 'attribute']\n",
      "topic_34 : ['game', 'player', 'monster', 'plot', 'watch']\n",
      "topic_35 : ['main', 'comment', 'merge', 'future', 'deprecate']\n",
      "topic_36 : ['open', 'job', 'late', 'developer', 'hire']\n",
      "topic_37 : ['reference', 'attempt', 'true', 'mysql', 'false']\n",
      "topic_38 : ['lehman', 'batch', 'kernel', 'macos', 'panic']\n",
      "topic_39 : ['les', 'dans', 'pas', 'ne', 'ajouter']\n",
      "topic_40 : ['zoom', 'mix', 'soccer', 'ml', 'capability']\n",
      "topic_41 : ['view', 'map', 'dashboard', 'chart', 'dataset']\n",
      "topic_42 : ['high', 'fast', 'speed', 'capture', 'quality']\n",
      "topic_43 : ['order', 'review', 'refactor', 'queue', 'market']\n",
      "topic_44 : ['date', 'end', 'format', 'receive', 'range']\n",
      "topic_45 : ['kid', 'hindi', 'rhyme', 'animate', 'animal']\n",
      "topic_46 : ['appear', 'possible', 'transaction', 'lock', 'payment']\n",
      "topic_47 : ['backend', 'analysis', 'scale', 'understand', 'series']\n",
      "topic_48 : ['java', 'com', 'src', 'como', 'usuário']\n",
      "topic_49 : ['para', 'os', 'da', 'spring', 'não']\n",
      "topic_50 : ['long', 'program', 'term', 'short', 'archive']\n",
      "topic_51 : ['die', 'es', 'signature', 'der', 'nicht']\n",
      "topic_52 : ['je', 'tant', 'article', 'souhaite', 'pouvoir']\n",
      "topic_53 : ['address', 'browser', 'ip', 'edge', 'firefox']\n",
      "topic_54 : ['est', 'qui', 'ce', 'conversion', 'jour']\n",
      "topic_55 : ['path', 'step', 'actual', 'gui', 'relative']\n",
      "topic_56 : ['color', 'learn', 'child', 'play', 'vehicle']\n",
      "topic_57 : ['exception', 'throw', 'channel', 'occur', 'external']\n",
      "topic_58 : ['find', 'module', 'document', 'html', 'preview']\n",
      "topic_59 : ['non', 'return', 'status', 'process', 'deploy']\n",
      "topic_60 : ['link', 'table', 'tag', 'icon', 'panel']\n",
      "topic_61 : ['le', 'du', 'internet', 'france', 'recherche']\n",
      "topic_62 : ['parameter', 'password', 'wip', 'schedule', 'username']\n",
      "topic_63 : ['local', 'instance', 'storage', 'volume', 'vm']\n",
      "topic_64 : ['de', 'base', 'war', 'uso', 'creación']\n",
      "topic_65 : ['par', 'au', 'pro', 'family', 'evaluate']\n",
      "topic_66 : ['separate', 'cada', 'lista', 'claim', 'sum']\n",
      "topic_67 : ['sistema', 'tipo', 'variant', 'número', 'permitir']\n",
      "topic_68 : ['bug', 'report', 'small', 'produce', 'region']\n",
      "topic_69 : ['note', 'compile', 'feedback', 'community', 'twice']\n",
      "topic_70 : ['style', 'css', 'layer', 'di', 'inline']\n",
      "topic_71 : ['print', 'book', 'amp', 'php', 'fatal']\n",
      "topic_72 : ['que', 'se', 'del', 'si', 'las']\n",
      "topic_73 : ['server', 'large', 'internal', 'driver', 'startup']\n",
      "topic_74 : ['skip', 'workspace', 'tls', 'che', 'round']\n",
      "topic_75 : ['event', 'handler', 'man', 'listener', 'på']\n",
      "topic_76 : ['log', 'editor', 'transfer', 'reload', 'trace']\n",
      "topic_77 : ['sync', 'ipod', 'launch', 'shell', 'char']\n",
      "topic_78 : ['image', 'source', 'upload', 'python', 'js']\n",
      "topic_79 : ['default', 'filter', 'element', 'special', 'use']\n",
      "topic_80 : ['meet', 'company', 'requirement', 'epa', 'notice']\n",
      "topic_81 : ['drone', 'actu', 'dji', 'air', 'blog']\n",
      "topic_82 : ['version', 'sql', 'old', 'ticket', 'repository']\n",
      "topic_83 : ['want', 'able', 'node', 'control', 'database']\n",
      "topic_84 : ['case', 'block', 'number', 'word', 'low']\n",
      "topic_85 : ['request', 'feature', 'allow', 'content', 'access']\n",
      "topic_86 : ['input', 'web', 'site', 'npm', 'cross']\n",
      "topic_87 : ['option', 'select', 'plan', 'activity', 'add']\n",
      "topic_88 : ['datum', 'store', 'info', 'chat', 'deep']\n",
      "topic_89 : ['tab', 'login', 'drop', 'role', 'category']\n",
      "topic_90 : ['core', 'sdk', 'mac', 'mirror', 'https']\n",
      "topic_91 : ['result', 'remote', 'apache', 'remain', 'contrast']\n",
      "topic_92 : ['code', 'build', 'vs', 'ci', 'use']\n",
      "topic_93 : ['hit', 'photo', 'signal', 'pause', 'provision']\n",
      "topic_94 : ['model', 'runtime', 'ignore', 'stats', 'drive']\n",
      "topic_95 : ['story', 'cli', 'moral', 'angular', 'material']\n",
      "topic_96 : ['script', 'follow', 'security', 'policy', 'javascript']\n",
      "topic_97 : ['contain', 'master', 'connect', 'character', 'integer']\n",
      "topic_98 : ['type', 'object', 'method', 'read', 'property']\n",
      "topic_99 : ['page', 'sample', 'website', 'height', 'advance']\n",
      "topic_100 : ['error', 'message', 'fail', 'copy', 'try']\n",
      "topic_101 : ['switch', 'day', 'live', 'people', 'year']\n",
      "topic_102 : ['create', 'project', 'exist', 'new', 'framework']\n",
      "topic_103 : ['aw', 'bot', 'pod', 'locate', 'secret']\n",
      "topic_104 : ['na', 'ou', 'ao', 'quando', 'página']\n",
      "topic_105 : ['en', 'mail', 'mostrar', 'esta', 'mongodb']\n",
      "topic_106 : ['function', 'class', 'form', 'string', 'invalid']\n",
      "topic_107 : ['cloud', 'host', 'label', 'container', 'location']\n",
      "topic_108 : ['tale', 'guide', 'length', 'condition', 'wait']\n",
      "topic_109 : ['query', 'unknown', 'chrome', 'thank', 'suggestion']\n",
      "topic_110 : ['ik', 'als', 'een', 'wil', 'van']\n",
      "topic_111 : ['update', 'setting', 'doc', 'github', 'add']\n",
      "topic_112 : ['track', 'dialog', 'focus', 'press', 'keyboard']\n",
      "topic_113 : ['file', 'share', 'rename', 'add', 'use']\n",
      "topic_114 : ['resident', 'utah', 'bratt', 'cheryl', 'today']\n",
      "topic_115 : ['video', 'graph', 'huge', 'structure', 'hole']\n",
      "topic_116 : ['pick', 'multi', 'home', 'automate', 'camera']\n",
      "topic_117 : ['hook', 'segment', 'wizard', 'có', 'không']\n",
      "topic_118 : ['api', 'client', 'import', 'google', 'docker']\n",
      "topic_119 : ['un', 'des', 'pour', 'sur', 'avec']\n",
      "topic_120 : ['test', 'write', 'unit', 'add', 'controller']\n",
      "topic_121 : ['issue', 'solve', 'todo', 'border', 'previously']\n",
      "topic_122 : ['warn', 'apply', 'avoid', 'restart', 'metric']\n",
      "topic_123 : ['window', 'help', 'linux', 'bundle', 'desktop']\n",
      "topic_124 : ['para', 'los', 'al', 'como', 'una']\n",
      "topic_125 : ['work', 'run', 'command', 'null', 'environment']\n",
      "topic_126 : ['define', 'big', 'relationship', 'touch', 'cosmos']\n",
      "topic_127 : ['action', 'release', 'permission', 'lib', 'bump']\n",
      "topic_128 : ['component', 'render', 'inside', 'prop', 'cell']\n",
      "topic_129 : ['install', 'plugin', 'react', 'folder', 'android']\n",
      "topic_130 : ['unexpected', 'cancel', 'production', 'migration', 'development']\n",
      "topic_131 : ['cause', 'connection', 'crash', 'failure', 'max']\n",
      "topic_132 : ['template', 'um', 'criar', 'dado', 'equal']\n",
      "topic_133 : ['task', 'level', 'team', 'notification', 'sub']\n",
      "topic_134 : ['session', 'collection', 'credential', 'webpack', 'ssh']\n",
      "topic_135 : ['usage', 'vulnerability', 'directory', 'embed', 'tomcat']\n",
      "topic_136 : ['stop', 'box', 'machine', 'virtual', 'manually']\n",
      "topic_137 : ['click', 'screen', 'menu', 'email', 'right']\n"
     ]
    },
    {
     "name": "stdout",
     "output_type": "stream",
     "text": [
      "topic_138 : ['language', 'theme', 'translation', 'automatic', 'suite']\n",
      "topic_139 : ['operator', 'statement', 'history', 'keyword', 'nombre']\n",
      "topic_140 : ['db', 'automatically', 'flag', 'patch', 'license']\n",
      "topic_141 : ['send', 'handle', 'connector', 'parent', 'widget']\n",
      "topic_142 : ['etc', 'deployment', 'pipeline', 'drag', 'bin']\n",
      "topic_143 : ['load', 'dependency', 'thread', 'migrate', 'assembly']\n",
      "topic_144 : ['state', 'package', 'configuration', 'metadata', 'pattern']\n",
      "topic_145 : ['button', 'save', 'close', 'card', 'turn']\n",
      "topic_146 : ['item', 'column', 'list', 'record', 'mobile']\n",
      "topic_147 : ['upgrade', 'loop', 'stick', 'das', 'notify']\n",
      "topic_148 : ['space', 'car', 'background', 'reader', 'water']\n",
      "topic_149 : ['fix', 'tool', 'dev', 'add', 'quick']\n"
     ]
    }
   ],
   "source": [
    "for topic_name in model_artm.topic_names:\n",
    "    print (topic_name, ':', model_artm.score_tracker[\"TopTokensScore\"].last_tokens[topic_name])"
   ]
  },
  {
   "cell_type": "code",
   "execution_count": 30,
   "metadata": {},
   "outputs": [
    {
     "name": "stdout",
     "output_type": "stream",
     "text": [
      "Sparsity Phi: 0.993 (ARTM)\n",
      "Sparsity Theta: 0.947 (ARTM)\n",
      "Perplexity: 184.772 (ARTM)\n"
     ]
    },
    {
     "data": {
      "image/png": "[encoded data removed]",
      "text/plain": [
       "<Figure size 432x288 with 1 Axes>"
      ]
     },
     "metadata": {
      "needs_background": "light"
     },
     "output_type": "display_data"
    }
   ],
   "source": [
    "def print_scores(model_artm):\n",
    "    print (\"Sparsity Phi: {0:.3f} (ARTM)\".format(\n",
    "        model_artm.score_tracker['SparsityPhiScore'].last_value))\n",
    "    \n",
    "    print (\"Sparsity Theta: {0:.3f} (ARTM)\".format(\n",
    "        model_artm.score_tracker['SparsityThetaScore'].last_value))\n",
    "\n",
    "    print (\"Perplexity: {0:.3f} (ARTM)\".format(\n",
    "        model_artm.score_tracker['PerplexityScore'].last_value))\n",
    "\n",
    "    plt.plot(range(model_artm.num_phi_updates), model_artm.score_tracker[\"PerplexityScore\"].value, \"r--\", linewidth=2)\n",
    "    plt.xlabel(\"Iterations count\")\n",
    "    plt.ylabel(\"ARTM perp. (red)\")\n",
    "    plt.grid(True)\n",
    "    plt.show()\n",
    "    \n",
    "print_scores(model_artm)"
   ]
  },
  {
   "cell_type": "code",
   "execution_count": 31,
   "metadata": {},
   "outputs": [],
   "source": [
    "phi_matrix = model_artm.get_phi()"
   ]
  },
  {
   "cell_type": "code",
   "execution_count": 32,
   "metadata": {},
   "outputs": [
    {
     "name": "stdout",
     "output_type": "stream",
     "text": [
      "               topic_0  topic_1  topic_2  topic_3  topic_4  topic_5  topic_6  \\\n",
      "datatech           0.0      0.0      0.0      0.0      0.0      0.0      0.0   \n",
      "temasek            0.0      0.0      0.0      0.0      0.0      0.0      0.0   \n",
      "científicos        0.0      0.0      0.0      0.0      0.0      0.0      0.0   \n",
      "emprendedores      0.0      0.0      0.0      0.0      0.0      0.0      0.0   \n",
      "definitional       0.0      0.0      0.0      0.0      0.0      0.0      0.0   \n",
      "...                ...      ...      ...      ...      ...      ...      ...   \n",
      "xdp                0.0      0.0      0.0      0.0      0.0      0.0      0.0   \n",
      "torture            0.0      0.0      0.0      0.0      0.0      0.0      0.0   \n",
      "políticas          0.0      0.0      0.0      0.0      0.0      0.0      0.0   \n",
      "обычный            0.0      0.0      0.0      0.0      0.0      0.0      0.0   \n",
      "borked             0.0      0.0      0.0      0.0      0.0      0.0      0.0   \n",
      "\n",
      "               topic_7  topic_8  topic_9  ...  topic_140  topic_141  \\\n",
      "datatech           0.0      0.0      0.0  ...        0.0        0.0   \n",
      "temasek            0.0      0.0      0.0  ...        0.0        0.0   \n",
      "científicos        0.0      0.0      0.0  ...        0.0        0.0   \n",
      "emprendedores      0.0      0.0      0.0  ...        0.0        0.0   \n",
      "definitional       0.0      0.0      0.0  ...        0.0        0.0   \n",
      "...                ...      ...      ...  ...        ...        ...   \n",
      "xdp                0.0      0.0      0.0  ...        0.0        0.0   \n",
      "torture            0.0      0.0      0.0  ...        0.0        0.0   \n",
      "políticas          0.0      0.0      0.0  ...        0.0        0.0   \n",
      "обычный            0.0      0.0      0.0  ...        0.0        0.0   \n",
      "borked             0.0      0.0      0.0  ...        0.0        0.0   \n",
      "\n",
      "               topic_142  topic_143  topic_144  topic_145  topic_146  \\\n",
      "datatech             0.0        0.0   0.000000        0.0        0.0   \n",
      "temasek              0.0        0.0   0.000000        0.0        0.0   \n",
      "científicos          0.0        0.0   0.000000        0.0        0.0   \n",
      "emprendedores        0.0        0.0   0.000000        0.0        0.0   \n",
      "definitional         0.0        0.0   0.000000        0.0        0.0   \n",
      "...                  ...        ...        ...        ...        ...   \n",
      "xdp                  0.0        0.0   0.000000        0.0        0.0   \n",
      "torture              0.0        0.0   0.000000        0.0        0.0   \n",
      "políticas            0.0        0.0   0.000000        0.0        0.0   \n",
      "обычный              0.0        0.0   0.000000        0.0        0.0   \n",
      "borked               0.0        0.0   0.000197        0.0        0.0   \n",
      "\n",
      "               topic_147  topic_148  topic_149  \n",
      "datatech             0.0        0.0        0.0  \n",
      "temasek              0.0        0.0        0.0  \n",
      "científicos          0.0        0.0        0.0  \n",
      "emprendedores        0.0        0.0        0.0  \n",
      "definitional         0.0        0.0        0.0  \n",
      "...                  ...        ...        ...  \n",
      "xdp                  0.0        0.0        0.0  \n",
      "torture              0.0        0.0        0.0  \n",
      "políticas            0.0        0.0        0.0  \n",
      "обычный              0.0        0.0        0.0  \n",
      "borked               0.0        0.0        0.0  \n",
      "\n",
      "[32570 rows x 150 columns]\n"
     ]
    }
   ],
   "source": [
    "print(phi_matrix)"
   ]
  },
  {
   "cell_type": "code",
   "execution_count": 33,
   "metadata": {},
   "outputs": [],
   "source": [
    "theta_matrix = model_artm.get_theta()"
   ]
  },
  {
   "cell_type": "code",
   "execution_count": 34,
   "metadata": {},
   "outputs": [
    {
     "name": "stdout",
     "output_type": "stream",
     "text": [
      "           354848863  354849081  354855846  354849210  354853389  354531001  \\\n",
      "topic_0          0.0        0.0        0.0   0.000000        0.0        0.0   \n",
      "topic_1          0.0        0.0        0.0   0.000000        0.0        0.0   \n",
      "topic_2          0.0        0.0        0.0   0.000000        0.0        0.0   \n",
      "topic_3          0.0        0.0        0.0   0.000000        0.0        0.0   \n",
      "topic_4          0.0        0.0        0.0   0.000000        0.0        0.0   \n",
      "...              ...        ...        ...        ...        ...        ...   \n",
      "topic_145        0.0        0.0        0.0   0.000000        0.0        0.0   \n",
      "topic_146        0.0        0.0        0.0   0.000000        0.0        0.0   \n",
      "topic_147        0.0        0.0        0.0   0.177445        0.0        0.0   \n",
      "topic_148        0.0        0.0        0.0   0.000000        0.0        0.0   \n",
      "topic_149        0.0        0.0        0.0   0.000000        0.0        0.0   \n",
      "\n",
      "           354849772  354849803  316370907  354854273  ...  293780988  \\\n",
      "topic_0          0.0        0.0        0.0        0.0  ...   0.000000   \n",
      "topic_1          0.0        0.0        0.0        0.0  ...   0.000000   \n",
      "topic_2          0.0        0.0        0.0        0.0  ...   0.000000   \n",
      "topic_3          0.0        0.0        0.0        0.0  ...   0.000000   \n",
      "topic_4          0.0        0.0        0.0        0.0  ...   0.000000   \n",
      "...              ...        ...        ...        ...  ...        ...   \n",
      "topic_145        0.0        0.0        0.0        0.0  ...   0.000000   \n",
      "topic_146        0.0        0.0        0.0        0.0  ...   0.000000   \n",
      "topic_147        0.0        0.0        0.0        0.0  ...   0.000000   \n",
      "topic_148        0.0        0.0        0.0        0.0  ...   0.000000   \n",
      "topic_149        0.0        0.0        0.0        0.0  ...   0.097621   \n",
      "\n",
      "           293780999  293788316  293788323  293788343  293788726  293788723  \\\n",
      "topic_0     0.000000   0.000000   0.111353   0.000000   0.000000        0.0   \n",
      "topic_1     0.000000   0.000000   0.000000   0.000000   0.000000        0.0   \n",
      "topic_2     0.000000   0.000000   0.000000   0.000000   0.000000        0.0   \n",
      "topic_3     0.000000   0.000000   0.000000   0.000000   0.000000        0.0   \n",
      "topic_4     0.086735   0.000000   0.000000   0.000000   0.000000        0.0   \n",
      "...              ...        ...        ...        ...        ...        ...   \n",
      "topic_145   0.000000   0.000000   0.109760   0.103058   0.146868        0.0   \n",
      "topic_146   0.000000   0.005524   0.000000   0.000000   0.140758        0.0   \n",
      "topic_147   0.000000   0.000000   0.000000   0.000000   0.000000        0.0   \n",
      "topic_148   0.000000   0.000000   0.000000   0.000000   0.000000        0.0   \n",
      "topic_149   0.000000   0.000000   0.000000   0.000000   0.000000        0.0   \n",
      "\n",
      "           293783089  293793432  293789770  \n",
      "topic_0          0.0        0.0        0.0  \n",
      "topic_1          0.0        0.0        0.0  \n",
      "topic_2          0.0        0.0        0.0  \n",
      "topic_3          0.0        0.0        0.0  \n",
      "topic_4          0.0        0.0        0.0  \n",
      "...              ...        ...        ...  \n",
      "topic_145        0.0        0.0        0.0  \n",
      "topic_146        0.0        0.0        0.0  \n",
      "topic_147        0.0        0.0        0.0  \n",
      "topic_148        0.0        0.0        0.0  \n",
      "topic_149        0.0        0.0        0.0  \n",
      "\n",
      "[150 rows x 541688 columns]\n"
     ]
    }
   ],
   "source": [
    "print(theta_matrix)"
   ]
  },
  {
   "cell_type": "code",
   "execution_count": 38,
   "metadata": {},
   "outputs": [],
   "source": [
    "model_artm.dump_artm_model(\"./3years_bigartm_dump\")"
   ]
  },
  {
   "cell_type": "code",
   "execution_count": null,
   "metadata": {},
   "outputs": [],
   "source": []
  }
 ],
 "metadata": {
  "kernelspec": {
   "display_name": "Python 3",
   "language": "python",
   "name": "python3"
  },
  "language_info": {
   "codemirror_mode": {
    "name": "ipython",
    "version": 3
   },
   "file_extension": ".py",
   "mimetype": "text/x-python",
   "name": "python",
   "nbconvert_exporter": "python",
   "pygments_lexer": "ipython3",
   "version": "3.6.9"
  },
  "pycharm": {
   "stem_cell": {
    "cell_type": "raw",
    "source": [],
    "metadata": {
     "collapsed": false
    }
   }
  }
 },
 "nbformat": 4,
 "nbformat_minor": 4
}